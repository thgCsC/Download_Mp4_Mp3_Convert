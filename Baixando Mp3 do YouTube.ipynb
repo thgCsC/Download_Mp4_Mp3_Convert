{
 "cells": [
  {
   "cell_type": "code",
   "execution_count": 4,
   "id": "eddc8b22",
   "metadata": {},
   "outputs": [],
   "source": [
    "# Baixando as bibliotecas\n",
    "\n",
    "#!pip install pytube\n",
    "#!pip install moviepy"
   ]
  },
  {
   "cell_type": "markdown",
   "id": "74a39da4",
   "metadata": {},
   "source": [
    "# Importando as bibliotecas\n"
   ]
  },
  {
   "cell_type": "code",
   "execution_count": 21,
   "id": "605dab8e",
   "metadata": {},
   "outputs": [],
   "source": [
    "from pytube import YouTube\n",
    "import moviepy.editor as mp\n",
    "import re\n",
    "import os "
   ]
  },
  {
   "cell_type": "markdown",
   "id": "87d188b9",
   "metadata": {},
   "source": [
    "# Url  e Local onde o video será salvo"
   ]
  },
  {
   "cell_type": "code",
   "execution_count": 25,
   "id": "d4e40f0d",
   "metadata": {},
   "outputs": [
    {
     "name": "stdout",
     "output_type": "stream",
     "text": [
      "Digite a url do vídeo: https://www.youtube.com/watch?v=inqC_yDCfc4\n",
      "Digite o diretório que deseja salvar o vídeo: Downloads\n"
     ]
    }
   ],
   "source": [
    "link = input(\"Digite a url do vídeo: \")\n",
    "path = input(\"Digite o diretório que deseja salvar o vídeo: \")\n",
    "yt = YouTube(link)"
   ]
  },
  {
   "cell_type": "code",
   "execution_count": 26,
   "id": "88c9e00d",
   "metadata": {},
   "outputs": [
    {
     "name": "stdout",
     "output_type": "stream",
     "text": [
      "Baixando...\n",
      "Download completo!\n"
     ]
    }
   ],
   "source": [
    "print ('Baixando...')\n",
    "ys = yt.streams.filter(only_audio = True).first().download(path)\n",
    "print('Download completo!')"
   ]
  },
  {
   "cell_type": "markdown",
   "id": "d327be21",
   "metadata": {},
   "source": [
    "# Convertendo o arquivo MP4 para MP3\n"
   ]
  },
  {
   "cell_type": "code",
   "execution_count": 27,
   "id": "6f403c05",
   "metadata": {},
   "outputs": [
    {
     "name": "stdout",
     "output_type": "stream",
     "text": [
      "Convertendo arquivo...\n",
      "Sucesso!\n"
     ]
    }
   ],
   "source": [
    "print ('Convertendo arquivo...')\n",
    "for file in os.listdir(path):\n",
    "    if re.search('mp4', file):\n",
    "        mp4_path = os.path.join(path, file)\n",
    "        mp3_path = os.path.join(path, os.path.splitext(file)[0]+'.mp3')\n",
    "        new_file = mp.AudioFileClip(mp4_path)\n",
    "        #os.remove(mp4_path)\n",
    "print ('Sucesso!')        "
   ]
  }
 ],
 "metadata": {
  "kernelspec": {
   "display_name": "Python 3 (ipykernel)",
   "language": "python",
   "name": "python3"
  },
  "language_info": {
   "codemirror_mode": {
    "name": "ipython",
    "version": 3
   },
   "file_extension": ".py",
   "mimetype": "text/x-python",
   "name": "python",
   "nbconvert_exporter": "python",
   "pygments_lexer": "ipython3",
   "version": "3.9.12"
  }
 },
 "nbformat": 4,
 "nbformat_minor": 5
}
