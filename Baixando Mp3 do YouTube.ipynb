{
 "cells": [
  {
   "cell_type": "code",
   "execution_count": 4,
   "id": "141c1703",
   "metadata": {},
   "outputs": [],
   "source": [
    "# Baixando as bibliotecas\n",
    "\n",
    "#!pip install pytube\n",
    "#!pip install moviepy"
   ]
  },
  {
   "cell_type": "markdown",
   "id": "29626a4f",
   "metadata": {},
   "source": [
    "# Importando as bibliotecas\n"
   ]
  },
  {
   "cell_type": "code",
   "execution_count": 12,
   "id": "eff56d0f",
   "metadata": {},
   "outputs": [],
   "source": [
    "from pytube import YouTube\n",
    "import moviepy.editor as mp\n",
    "import re\n",
    "import os "
   ]
  },
  {
   "cell_type": "markdown",
   "id": "4ee38fec",
   "metadata": {},
   "source": [
    "# Url  e Local onde o video será salvo"
   ]
  },
  {
   "cell_type": "code",
   "execution_count": 13,
   "id": "624c0997",
   "metadata": {},
   "outputs": [
    {
     "name": "stdout",
     "output_type": "stream",
     "text": [
      "Digite a url do vídeo: https://www.youtube.com/watch?v=W9J0CIjJYrM&t=3367s\n",
      "Digite o diretório que deseja salvar o vídeo: Downloads\n"
     ]
    }
   ],
   "source": [
    "link = input(\"Digite a url do vídeo: \")\n",
    "path = input(\"Digite o diretório que deseja salvar o vídeo: \")\n",
    "yt = YouTube(link)"
   ]
  },
  {
   "cell_type": "code",
   "execution_count": 14,
   "id": "97d460ed",
   "metadata": {},
   "outputs": [
    {
     "name": "stdout",
     "output_type": "stream",
     "text": [
      "Baixando...\n",
      "Download completo!\n"
     ]
    }
   ],
   "source": [
    "print ('Baixando...')\n",
    "ys = yt.streams.filter(only_audio = True).first().download(path)\n",
    "print('Download completo!')"
   ]
  },
  {
   "cell_type": "markdown",
   "id": "3464d052",
   "metadata": {},
   "source": [
    "# Convertendo o arquivo MP4 para MP3\n"
   ]
  },
  {
   "cell_type": "code",
   "execution_count": 15,
   "id": "fe3d2759",
   "metadata": {},
   "outputs": [
    {
     "name": "stdout",
     "output_type": "stream",
     "text": [
      "Convertendo arquivo...\n"
     ]
    },
    {
     "ename": "PermissionError",
     "evalue": "[WinError 32] O arquivo já está sendo usado por outro processo: 'Downloads\\\\LACUNA COIL - Within Me (OFFICIAL VIDEO).mp4'",
     "output_type": "error",
     "traceback": [
      "\u001b[1;31m---------------------------------------------------------------------------\u001b[0m",
      "\u001b[1;31mPermissionError\u001b[0m                           Traceback (most recent call last)",
      "Input \u001b[1;32mIn [15]\u001b[0m, in \u001b[0;36m<cell line: 2>\u001b[1;34m()\u001b[0m\n\u001b[0;32m      5\u001b[0m         mp3_path \u001b[38;5;241m=\u001b[39m os\u001b[38;5;241m.\u001b[39mpath\u001b[38;5;241m.\u001b[39mjoin(path, os\u001b[38;5;241m.\u001b[39mpath\u001b[38;5;241m.\u001b[39msplitext(file)[\u001b[38;5;241m0\u001b[39m]\u001b[38;5;241m+\u001b[39m\u001b[38;5;124m'\u001b[39m\u001b[38;5;124m.mp3\u001b[39m\u001b[38;5;124m'\u001b[39m)\n\u001b[0;32m      6\u001b[0m         new_file \u001b[38;5;241m=\u001b[39m mp\u001b[38;5;241m.\u001b[39mAudioFileClip(mp4_path)\n\u001b[1;32m----> 7\u001b[0m         \u001b[43mos\u001b[49m\u001b[38;5;241;43m.\u001b[39;49m\u001b[43mremove\u001b[49m\u001b[43m(\u001b[49m\u001b[43mmp4_path\u001b[49m\u001b[43m)\u001b[49m\n\u001b[0;32m      8\u001b[0m \u001b[38;5;28mprint\u001b[39m (\u001b[38;5;124m'\u001b[39m\u001b[38;5;124mSucesso!\u001b[39m\u001b[38;5;124m'\u001b[39m)\n",
      "\u001b[1;31mPermissionError\u001b[0m: [WinError 32] O arquivo já está sendo usado por outro processo: 'Downloads\\\\LACUNA COIL - Within Me (OFFICIAL VIDEO).mp4'"
     ]
    }
   ],
   "source": [
    "print ('Convertendo arquivo...')\n",
    "for file in os.listdir(path):\n",
    "    if re.search('mp4', file):\n",
    "        mp4_path = os.path.join(path, file)\n",
    "        mp3_path = os.path.join(path, os.path.splitext(file)[0]+'.mp3')\n",
    "        new_file = mp.AudioFileClip(mp4_path)\n",
    "        os.remove(mp4_path)\n",
    "print ('Sucesso!')        "
   ]
  }
 ],
 "metadata": {
  "kernelspec": {
   "display_name": "Python 3 (ipykernel)",
   "language": "python",
   "name": "python3"
  },
  "language_info": {
   "codemirror_mode": {
    "name": "ipython",
    "version": 3
   },
   "file_extension": ".py",
   "mimetype": "text/x-python",
   "name": "python",
   "nbconvert_exporter": "python",
   "pygments_lexer": "ipython3",
   "version": "3.9.12"
  }
 },
 "nbformat": 4,
 "nbformat_minor": 5
}
